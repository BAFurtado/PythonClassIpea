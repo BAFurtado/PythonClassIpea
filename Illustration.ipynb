{
 "nbformat": 4,
 "nbformat_minor": 0,
 "metadata": {
  "colab": {
   "name": "Illustration.ipynb",
   "provenance": [],
   "authorship_tag": "ABX9TyN8MW+7iYuWHVgQRjfrX0oQ",
   "include_colab_link": true
  },
  "kernelspec": {
   "name": "python3",
   "display_name": "Python 3"
  },
  "language_info": {
   "name": "python"
  }
 },
 "cells": [
  {
   "cell_type": "markdown",
   "metadata": {
    "id": "view-in-github",
    "colab_type": "text"
   },
   "source": [
    "<a href=\"https://colab.research.google.com/github/BAFurtado/PythonClassIpea/blob/master/Illustration.ipynb\" target=\"_parent\"><img src=\"https://colab.research.google.com/assets/colab-badge.svg\" alt=\"Open In Colab\"/></a>"
   ]
  },
  {
   "cell_type": "markdown",
   "source": [
    "### This is a demonstration of how easy-to-use Jupyter at colab.research.google.com is"
   ],
   "metadata": {
    "id": "JakwL1odeCeD"
   }
  },
  {
   "cell_type": "code",
   "execution_count": null,
   "metadata": {
    "colab": {
     "base_uri": "https://localhost:8080/"
    },
    "id": "rBjnTK_qd_OH",
    "outputId": "1baf76e3-c2b4-4a3d-fe33-e70b2d2b94a7"
   },
   "outputs": [
    {
     "output_type": "stream",
     "name": "stdout",
     "text": [
      "Hello, world! \n"
     ]
    }
   ],
   "source": [
    "print('Hello, world! ')"
   ]
  }
 ]
}